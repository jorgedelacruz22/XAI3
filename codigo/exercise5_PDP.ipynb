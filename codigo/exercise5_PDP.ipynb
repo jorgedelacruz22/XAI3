{
 "cells": [
  {
   "cell_type": "markdown",
   "id": "04cccdaf",
   "metadata": {},
   "source": [
    "# XAI 3 and deployment"
   ]
  },
  {
   "cell_type": "markdown",
   "id": "8e7d0fc8",
   "metadata": {},
   "source": [
    "### Exercise 5. Model-agnostic: Partial Dependency Plot (PDP)"
   ]
  },
  {
   "cell_type": "markdown",
   "id": "612cc13e",
   "metadata": {},
   "source": [
    "#### 1. One dimensional Partial Dependence Plot"
   ]
  },
  {
   "cell_type": "code",
   "execution_count": 1,
   "id": "d9ca673c",
   "metadata": {},
   "outputs": [],
   "source": [
    "import pandas as pd\n",
    "import matplotlib.pyplot as plt\n",
    "from sklearn.ensemble import RandomForestRegressor\n",
    "from sklearn.inspection import PartialDependenceDisplay\n",
    "from sklearn.model_selection import train_test_split"
   ]
  },
  {
   "cell_type": "code",
   "execution_count": null,
   "id": "2173eff0",
   "metadata": {},
   "outputs": [],
   "source": [
    "df = pd.read_csv('codigo/day.csv')"
   ]
  },
  {
   "cell_type": "markdown",
   "id": "1bf1f4ec",
   "metadata": {},
   "source": [
    "#### 2. Bidimensional Partial Dependency Plot"
   ]
  },
  {
   "cell_type": "code",
   "execution_count": null,
   "id": "11e83f97",
   "metadata": {},
   "outputs": [],
   "source": []
  },
  {
   "cell_type": "markdown",
   "id": "a348ce3f",
   "metadata": {},
   "source": [
    "#### 3. PDP to explain the price of a house."
   ]
  },
  {
   "cell_type": "code",
   "execution_count": null,
   "id": "2b89fb27",
   "metadata": {},
   "outputs": [],
   "source": []
  }
 ],
 "metadata": {
  "kernelspec": {
   "display_name": "base",
   "language": "python",
   "name": "python3"
  },
  "language_info": {
   "codemirror_mode": {
    "name": "ipython",
    "version": 3
   },
   "file_extension": ".py",
   "mimetype": "text/x-python",
   "name": "python",
   "nbconvert_exporter": "python",
   "pygments_lexer": "ipython3",
   "version": "3.10.9"
  }
 },
 "nbformat": 4,
 "nbformat_minor": 5
}
