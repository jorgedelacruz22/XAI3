{
 "cells": [
  {
   "cell_type": "markdown",
   "id": "04cccdaf",
   "metadata": {},
   "source": [
    "# XAI 3 and deployment"
   ]
  },
  {
   "cell_type": "markdown",
   "id": "8e7d0fc8",
   "metadata": {},
   "source": [
    "### Exercise 5. Model-agnostic: Partial Dependency Plot (PDP)"
   ]
  },
  {
   "cell_type": "markdown",
   "id": "612cc13e",
   "metadata": {},
   "source": [
    "#### 1. One dimensional Partial Dependence Plot"
   ]
  },
  {
   "cell_type": "code",
   "execution_count": null,
   "id": "d9ca673c",
   "metadata": {
    "vscode": {
     "languageId": "plaintext"
    }
   },
   "outputs": [],
   "source": []
  },
  {
   "cell_type": "markdown",
   "id": "1bf1f4ec",
   "metadata": {},
   "source": [
    "#### 2. Bidimensional Partial Dependency Plot"
   ]
  },
  {
   "cell_type": "code",
   "execution_count": null,
   "id": "11e83f97",
   "metadata": {
    "vscode": {
     "languageId": "plaintext"
    }
   },
   "outputs": [],
   "source": []
  },
  {
   "cell_type": "markdown",
   "id": "a348ce3f",
   "metadata": {},
   "source": [
    "#### 3. PDP to explain the price of a house."
   ]
  },
  {
   "cell_type": "code",
   "execution_count": null,
   "id": "2b89fb27",
   "metadata": {
    "vscode": {
     "languageId": "plaintext"
    }
   },
   "outputs": [],
   "source": []
  }
 ],
 "metadata": {
  "language_info": {
   "name": "python"
  }
 },
 "nbformat": 4,
 "nbformat_minor": 5
}
